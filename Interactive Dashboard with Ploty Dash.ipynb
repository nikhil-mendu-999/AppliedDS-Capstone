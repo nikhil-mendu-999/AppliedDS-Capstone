{
    "cells": [
        {
            "cell_type": "markdown",
            "id": "95ada58b",
            "metadata": {},
            "source": "# Build a Dashboard Application with Plotly Dash"
        },
        {
            "cell_type": "markdown",
            "metadata": {},
            "source": "In this lab, you will be building a Plotly Dash application for users to perform interactive visual analytics on SpaceX launch data in real-time.\n\nThis dashboard application contains input components such as a dropdown list and a range slider to interact with a pie chart and a scatter point chart. You will be guided to build this dashboard application via the following tasks:\n\n- TASK 1: Add a Launch Site Drop-down Input Component\n- TASK 2: Add a callback function to render success-pie-chart based on selected site dropdown\n- TASK 3: Add a Range Slider to Select Payload\n- TASK 4: Add a callback function to render the success-payload-scatter-chart scatter plot\n\nAfter visual analysis using the dashboard, you should be able to obtain some insights to answer the following five questions:\n\n1. Which site has the largest successful launches?\n2. Which site has the highest launch success rate?\n3. Which payload range(s) has the highest launch success rate?\n4. Which payload range(s) has the lowest launch success rate?\n5. Which F9 Booster version (v1.0, v1.1, FT, B4, B5, etc.) has the highest launch success rate?"
        },
        {
            "cell_type": "markdown",
            "id": "2270d26b",
            "metadata": {},
            "source": "## Setup development environment\n### Install required Python packages"
        },
        {
            "cell_type": "code",
            "execution_count": null,
            "id": "relevant-helena",
            "metadata": {},
            "outputs": [],
            "source": "# Install python packages required to run the application\n!pip3 install pandas dash"
        },
        {
            "cell_type": "markdown",
            "id": "e5633c47",
            "metadata": {},
            "source": "### Download a skeleton dashboard application and dataset"
        },
        {
            "cell_type": "code",
            "execution_count": null,
            "id": "turned-simon",
            "metadata": {},
            "outputs": [],
            "source": "# Download dataset\n!wget \"https://cf-courses-data.s3.us.cloud-object-storage.appdomain.cloud/IBM-DS0321EN-SkillsNetwork/datasets/spacex_launch_dash.csv\""
        },
        {
            "cell_type": "code",
            "execution_count": null,
            "id": "laden-wonder",
            "metadata": {},
            "outputs": [],
            "source": "# Download a skeleton Dash app to be completed in this lab\n!wget \"https://cf-courses-data.s3.us.cloud-object-storage.appdomain.cloud/IBM-DS0321EN-SkillsNetwork/labs/module_3/spacex_dash_app.py\""
        },
        {
            "cell_type": "markdown",
            "id": "2aa6f175",
            "metadata": {},
            "source": "## TASK 1: Add a Launch Site Drop-down Input Component"
        },
        {
            "cell_type": "markdown",
            "id": "6d26c683",
            "metadata": {},
            "source": "We have four different launch sites and we would like to first see which one has the largest success count. Then, we would like to select one specific site and check its detailed success rate (class=0 vs. class=1).\n\nAs such, we will need a dropdown menu to let us select different launch sites.\n\nFind and complete a commented dcc.Dropdown(id='site-dropdown',...) input with following attributes:\n\n* id attribute with value site-dropdown\n* options attribute is a list of dict-like option objects (with label and value attributes). You can set the label and value all to be the launch site names in the spacex_df and you need to include the default All option. e.g., options=[{'label': 'All Sites', 'value': 'ALL'},{'label': 'site1', 'value': 'site1'}, ...]\n* value attribute with default dropdown value to be ALL meaning all sites are selected\n* placeholder attribute to show a text description about this input area, such as Select a Launch Site here\n* searchable attribute to be True so we can enter keywords to search launch sites"
        },
        {
            "cell_type": "markdown",
            "id": "40a52804",
            "metadata": {},
            "source": "## TASK 2: Add a callback function to render success-pie-chart based on selected site dropdown"
        },
        {
            "cell_type": "markdown",
            "id": "b6d768fb",
            "metadata": {},
            "source": "\nThe general idea of this callback function is to get the selected launch site from site-dropdown and render a pie chart visualizing launch success counts.\n\nDash callback function is a type of Python function which will be automatically called by Dash whenever receiving an input component updates, such as a click or dropdown selecting event.\n\nLet's add a callback function in spacex_dash_app.py including the following application logic:\n\n- Input is set to be the site-dropdown dropdown, i.e., Input(component_id='site-dropdown', component_property='value')\n- Output to be the graph with id success-pie-chart, i.e., Output(component_id='success-pie-chart', component_property='figure')\n- A If-Else statement to check if ALL sites were selected or just a specific launch site was selected\n    - If ALL sites are selected, we will use all rows in the dataframe spacex_df to render and return a pie chart graph to show the total success launches (i.e., the total count of class column)\n    - If a specific launch site is selected, you need to filter the dataframe spacex_df first in order to include the only data for the selected site. Then, render and return a pie chart graph to show the success (class=1) count and failed (class=0) count for the selected site."
        },
        {
            "cell_type": "markdown",
            "id": "e344aaf5",
            "metadata": {},
            "source": "## TASK 3: Add a Range Slider to Select Payload"
        },
        {
            "cell_type": "markdown",
            "id": "4ef07f22",
            "metadata": {},
            "source": "Next, we want to find if variable payload is correlated to mission outcome. From a dashboard point of view, we want to be able to easily select different payload range and see if we can identify some visual patterns.\n\nFind and complete a commented dcc.RangeSlider(id='payload-slider',...) input with the following attribute:\n\n- id to be payload-slider\n- min indicating the slider starting point, we set its value to be 0 (Kg)\n- max indicating the slider ending point to, we set its value to be 10000 (Kg)\n- step indicating the slider interval on the slider, we set its value to be 1000 (Kg)\n- value indicating the current selected range, we could set it to be min_payload and max_payload"
        },
        {
            "cell_type": "markdown",
            "id": "8149bb52",
            "metadata": {},
            "source": "## TASK 4: Add a callback function to render the success-payload-scatter-chart scatter plot"
        },
        {
            "cell_type": "markdown",
            "id": "ea046b7c",
            "metadata": {},
            "source": "Next, we want to plot a scatter plot with the x axis to be the payload and the y axis to be the launch outcome (i.e., class column). As such, we can visually observe how payload may be correlated with mission outcomes for selected site(s).\n\nIn addition, we want to color-label the Booster version on each scatter point so that we may observe mission outcomes with different boosters.\n\nNow, let's add a call function including the following application logic:\n\n- Input to be [Input(component_id='site-dropdown', component_property='value'), Input(component_id=\"payload-slider\", component_property=\"value\")] Note that we have two input components, one to receive selected launch site and another to receive selected payload range\n- Output to be Output(component_id='success-payload-scatter-chart', component_property='figure')\n- A If-Else statement to check if ALL sites were selected or just a specific launch site was selected\n    - If ALL sites are selected, render a scatter plot to display all values for variable Payload Mass (kg) and variable class. In addition, the point color needs to be set to the booster version i.e., color=\"Booster Version Category\"\n    - If a specific launch site is selected, you need to filter the spacex_df first, and render a scatter chart to show values Payload Mass (kg) and class for the selected site, and color-label the point using Boosster Version Category likewise."
        },
        {
            "cell_type": "markdown",
            "id": "ddc31eeb",
            "metadata": {},
            "source": "## My Solution"
        },
        {
            "cell_type": "code",
            "execution_count": null,
            "id": "6c6c9b85",
            "metadata": {},
            "outputs": [],
            "source": "# Import required libraries\nimport pandas as pd\nimport dash\nimport dash_html_components as html\nimport dash_core_components as dcc\nfrom dash.dependencies import Input, Output\nimport plotly.express as px\n\n# Read the airline data into pandas dataframe\nspacex_df = pd.read_csv(\"spacex_launch_dash.csv\")\nmax_payload = spacex_df['Payload Mass (kg)'].max()\nmin_payload = spacex_df['Payload Mass (kg)'].min()\n\n# Create a dash application\napp = dash.Dash(__name__)\n\n# Create an app layout\napp.layout = html.Div(children=[html.H1('SpaceX Launch Records Dashboard',\n                                        style={'textAlign': 'center', 'color': '#503D36',\n                                               'font-size': 40}),\n                                # TASK 1: Add a dropdown list to enable Launch Site selection\n                                # The default select value is for ALL sites\n                                # dcc.Dropdown(id='site-dropdown',...)\n                                dcc.Dropdown(id='site-dropdown',\n                                            options=[\n                                                {'label': 'All Sites', 'value': 'ALL'},\n                                                {'label': 'CCAFS LC-40', 'value': 'CCAFS LC-40'},\n                                                {'label': 'VAFB SLC-4E', 'value': 'VAFB SLC-4E'},\n                                                {'label': 'KSC LC-39A', 'value': 'KSC LC-39A'},\n                                                {'label': 'CCAFS SLC-40', 'value': 'CCAFS SLC-40'}\n                                            ],\n                                            value='ALL',\n                                            placeholder=\"Select a Launch Site here\",\n                                            searchable=True\n                                            ),\n                                html.Br(),\n\n                                # TASK 2: Add a pie chart to show the total successful launches count for all sites\n                                # If a specific launch site was selected, show the Success vs. Failed counts for the site\n                                html.Div(dcc.Graph(id='success-pie-chart')),\n                                html.Br(),\n\n                                html.P(\"Payload range (Kg):\"),\n                                # TASK 3: Add a slider to select payload range\n                                html.Div(dcc.RangeSlider(id='payload-slider',\n                                min=0, max=10000, step=1000,\n                                marks={0: '0', 2500: '2500', 5000: '5000', 7500: '7500', 10000: '10000'},\n                                value=[min_payload, max_payload])),\n\n                                # TASK 4: Add a scatter chart to show the correlation between payload and launch success\n                                html.Div(dcc.Graph(id='success-payload-scatter-chart')),\n                                ])\n\n# TASK 2:\n# Add a callback function for `site-dropdown` as input, `success-pie-chart` as output\n@app.callback(Output(component_id='success-pie-chart', component_property='figure'),\n              Input(component_id='site-dropdown', component_property='value'))\ndef get_pie_chart(entered_site):\n\n    filtered_df = spacex_df[spacex_df['Launch Site']==str(entered_site)]\n\n    #filtered_df = spacex_df\n    if entered_site == 'ALL':\n        fig = px.pie(spacex_df, values='class', \n        names='Launch Site', \n        title='Total Success Launches By Site')\n        return fig\n    else:\n        filtered_df = filtered_df.groupby(['Launch Site', 'class']).size().reset_index(name='class_count')\n        title = f\"Total Success Launches for site {entered_site}\"\n        fig2 = px.pie(filtered_df, values = 'class_count',\n        names = 'class', title = title)\n        return fig2\n\n\n# TASK 4:\n# Add a callback function for `site-dropdown` and `payload-slider` as inputs, `success-payload-scatter-chart` as output\n@app.callback(Output(component_id='success-payload-scatter-chart', component_property='figure'),\n                [Input(component_id= 'site-dropdown', component_property='value'),\n                Input(component_id='payload-slider', component_property='value')])\ndef get_scatter_plot(entered_site, slider_range):\n    filtered_df = spacex_df[spacex_df['Launch Site']==str(entered_site)]\n    low, high = slider_range\n    mask = (spacex_df['Payload Mass (kg)'] > low) & (spacex_df['Payload Mass (kg)'] < high)\n\n    if entered_site == 'ALL':\n        fig = px.scatter(\n            spacex_df[mask], x=\"Payload Mass (kg)\", y=\"class\", \n            color='Booster Version Category')\n        return fig\n    \n    else:\n        fig2 = px.scatter(\n            filtered_df[mask], x=\"Payload Mass (kg)\", y=\"class\", \n            color='Booster Version Category')\n        return fig2\n        \n\n# Run the app\nif __name__ == '__main__':\n    app.run_server()"
        }
    ],
    "metadata": {
        "kernelspec": {
            "display_name": "Python 3.7",
            "language": "python",
            "name": "python3"
        },
        "language_info": {
            "codemirror_mode": {
                "name": "ipython",
                "version": 3
            },
            "file_extension": ".py",
            "mimetype": "text/x-python",
            "name": "python",
            "nbconvert_exporter": "python",
            "pygments_lexer": "ipython3",
            "version": "3.7.11"
        }
    },
    "nbformat": 4,
    "nbformat_minor": 5
}